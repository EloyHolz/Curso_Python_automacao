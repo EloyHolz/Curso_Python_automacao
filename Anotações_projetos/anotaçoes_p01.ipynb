{
 "cells": [
  {
   "cell_type": "markdown",
   "metadata": {},
   "source": [
    "# Projeto 01\n",
    "\n",
    "#### usando o jupyter pra estudar e organizar "
   ]
  },
  {
   "cell_type": "markdown",
   "metadata": {},
   "source": [
    "### Mostrar dados Para o Usuário\n",
    "comando print()"
   ]
  },
  {
   "cell_type": "code",
   "execution_count": 2,
   "metadata": {},
   "outputs": [
    {
     "name": "stdout",
     "output_type": "stream",
     "text": [
      "Semana do Python na Prática\n"
     ]
    }
   ],
   "source": [
    "print(\"Semana do Python na Prática\")"
   ]
  },
  {
   "cell_type": "markdown",
   "metadata": {},
   "source": [
    "### Receber dados do usuário\n",
    "\n",
    "comando input()\n",
    "\n",
    "Tudo que se digita no input vem como texto/STR -> para fazer calculos tem q converter para int"
   ]
  },
  {
   "cell_type": "code",
   "execution_count": null,
   "metadata": {},
   "outputs": [],
   "source": [
    "input(\"Digite o seu Nome: \")"
   ]
  },
  {
   "cell_type": "markdown",
   "metadata": {},
   "source": [
    "### Váriáveis em Python - > para armazenar dados\n"
   ]
  },
  {
   "cell_type": "code",
   "execution_count": 24,
   "metadata": {},
   "outputs": [
    {
     "name": "stdout",
     "output_type": "stream",
     "text": [
      "Semana do Python na Prática\n"
     ]
    }
   ],
   "source": [
    "projeto = \"Semana do Python na Prática\"\n",
    "print(projeto)"
   ]
  },
  {
   "cell_type": "code",
   "execution_count": 25,
   "metadata": {},
   "outputs": [
    {
     "name": "stdout",
     "output_type": "stream",
     "text": [
      "Gerador de Orçamentos em PDF Com Python]\n",
      "2\n",
      "10\n",
      "1\n",
      "20\n"
     ]
    }
   ],
   "source": [
    "projeto = input('Digite a Decrição do Projeto: ')\n",
    "horas_previstas = input(\"Digite a quantidade de Horas Previstas: \")\n",
    "valor_hora = input(\"Digite o Valor da Hora Trabalhada: \")\n",
    "prazo = input(\"Digite o prazo estimado: \")\n",
    "total = int(horas_previstas) * int(valor_hora)\n",
    "msg_final = 'Orçamento Gerado com Sucesso'\n",
    "\n",
    "print(projeto)\n",
    "print(horas_previstas)\n",
    "print(valor_hora)\n",
    "print(prazo)\n",
    "print(total)\n",
    "\n"
   ]
  },
  {
   "cell_type": "markdown",
   "metadata": {},
   "source": [
    "### Cálculos em Python"
   ]
  },
  {
   "cell_type": "code",
   "execution_count": 19,
   "metadata": {},
   "outputs": [
    {
     "name": "stdout",
     "output_type": "stream",
     "text": [
      "2\n",
      "1\n",
      "120\n",
      "100.0\n",
      "223.0\n"
     ]
    }
   ],
   "source": [
    "soma = 1 + 1\n",
    "subtracao = 10 - int(\"9\")\n",
    "divisao = 200/2\n",
    "multiplicacao = 20*6\n",
    "total = soma + subtracao + divisao + multiplicacao\n",
    "\n",
    "print((soma))\n",
    "print((subtracao))\n",
    "print((multiplicacao))\n",
    "print((divisao))\n",
    "print((total))\n"
   ]
  },
  {
   "cell_type": "markdown",
   "metadata": {},
   "source": [
    "### Gerando o PDF do Orçamento\n",
    "\n",
    "para adicionar ao pdf nao pode colocar no tipo INT"
   ]
  },
  {
   "cell_type": "code",
   "execution_count": 21,
   "metadata": {},
   "outputs": [],
   "source": [
    "from fpdf import FPDF"
   ]
  },
  {
   "cell_type": "code",
   "execution_count": 27,
   "metadata": {},
   "outputs": [
    {
     "name": "stdout",
     "output_type": "stream",
     "text": [
      "Orçamento Gerado com Sucesso\n"
     ]
    }
   ],
   "source": [
    "pdf = FPDF()\n",
    "\n",
    "pdf.add_page()\n",
    "pdf.set_font(\"arial\")\n",
    "pdf.image(\"template.png\", x=0, y=0)\n",
    "\n",
    "pdf.text(115, 145, projeto)\n",
    "pdf.text(115, 160, horas_previstas)\n",
    "pdf.text(115, 175, valor_hora)\n",
    "pdf.text(115, 190, prazo)\n",
    "pdf.text(115, 205, str(total))\n",
    "\n",
    "pdf.output(\"Orçamento.pdf\")\n",
    "print(msg_final)"
   ]
  }
 ],
 "metadata": {
  "kernelspec": {
   "display_name": "Python 3",
   "language": "python",
   "name": "python3"
  },
  "language_info": {
   "codemirror_mode": {
    "name": "ipython",
    "version": 3
   },
   "file_extension": ".py",
   "mimetype": "text/x-python",
   "name": "python",
   "nbconvert_exporter": "python",
   "pygments_lexer": "ipython3",
   "version": "3.12.2"
  }
 },
 "nbformat": 4,
 "nbformat_minor": 2
}
