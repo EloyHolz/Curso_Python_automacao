{
 "cells": [
  {
   "cell_type": "markdown",
   "metadata": {},
   "source": [
    "### Projeto 4\n",
    "\n",
    "#### Bibliotecas ultilizadas:\n",
    "    - opencv-python\n",
    "    - mediapipe\n",
    "    - cvzone"
   ]
  },
  {
   "cell_type": "markdown",
   "metadata": {},
   "source": [
    "#### Loopings com 'while'"
   ]
  },
  {
   "cell_type": "code",
   "execution_count": 3,
   "metadata": {},
   "outputs": [
    {
     "name": "stdout",
     "output_type": "stream",
     "text": [
      "10\n",
      "9\n",
      "8\n",
      "7\n",
      "6\n",
      "5\n",
      "4\n",
      "3\n",
      "2\n",
      "1\n"
     ]
    }
   ],
   "source": [
    "contador = 10\n",
    "\n",
    "while contador > 0:\n",
    "        print(contador)\n",
    "        contador = contador - 1"
   ]
  },
  {
   "cell_type": "markdown",
   "metadata": {},
   "source": [
    "### Testes Lógicos com 'if'"
   ]
  },
  {
   "cell_type": "code",
   "execution_count": 9,
   "metadata": {},
   "outputs": [
    {
     "name": "stdout",
     "output_type": "stream",
     "text": [
      "Não é a melhor linguagem do mundo\n"
     ]
    }
   ],
   "source": [
    "linguagem = \"casa\"\n",
    "if linguagem == \"Python\":\n",
    "    print('Melhor Linguagem do Mundo')\n",
    "else:    \n",
    "    print(\"Não é a melhor linguagem do mundo\")"
   ]
  },
  {
   "cell_type": "markdown",
   "metadata": {},
   "source": [
    "### Loopings infinitos"
   ]
  },
  {
   "cell_type": "code",
   "execution_count": 10,
   "metadata": {},
   "outputs": [
    {
     "name": "stdout",
     "output_type": "stream",
     "text": [
      "casa\n",
      "casinha\n",
      "parar\n"
     ]
    }
   ],
   "source": [
    "while True:\n",
    "        mensagem = input(\"Digite Algo\")\n",
    "        print(mensagem)\n",
    "        if mensagem == \"parar\": \n",
    "                break"
   ]
  }
 ],
 "metadata": {
  "kernelspec": {
   "display_name": "Python 3",
   "language": "python",
   "name": "python3"
  },
  "language_info": {
   "codemirror_mode": {
    "name": "ipython",
    "version": 3
   },
   "file_extension": ".py",
   "mimetype": "text/x-python",
   "name": "python",
   "nbconvert_exporter": "python",
   "pygments_lexer": "ipython3",
   "version": "3.12.2"
  }
 },
 "nbformat": 4,
 "nbformat_minor": 2
}
